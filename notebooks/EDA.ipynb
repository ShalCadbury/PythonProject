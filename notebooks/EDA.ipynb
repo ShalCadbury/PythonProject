{
 "cells": [
  {
   "cell_type": "markdown",
   "metadata": {},
   "source": [
    "### Used Vehicle Information for Sale (US) ####"
   ]
  },
  {
   "cell_type": "code",
   "execution_count": 17,
   "metadata": {},
   "outputs": [],
   "source": [
    "import pandas as pd\n",
    "import plotly.express as plt\n",
    "import streamlit as st"
   ]
  },
  {
   "cell_type": "code",
   "execution_count": null,
   "metadata": {},
   "outputs": [
    {
     "name": "stdout",
     "output_type": "stream",
     "text": [
      "<class 'pandas.core.frame.DataFrame'>\n",
      "RangeIndex: 51525 entries, 0 to 51524\n",
      "Data columns (total 13 columns):\n",
      " #   Column        Non-Null Count  Dtype         \n",
      "---  ------        --------------  -----         \n",
      " 0   price         51525 non-null  int64         \n",
      " 1   model_year    47906 non-null  float64       \n",
      " 2   model         51525 non-null  object        \n",
      " 3   condition     51525 non-null  object        \n",
      " 4   cylinders     46265 non-null  float64       \n",
      " 5   fuel          51525 non-null  object        \n",
      " 6   odometer      43633 non-null  float64       \n",
      " 7   transmission  51525 non-null  object        \n",
      " 8   type          51525 non-null  object        \n",
      " 9   paint_color   42258 non-null  object        \n",
      " 10  is_4wd        25572 non-null  float64       \n",
      " 11  date_posted   51525 non-null  datetime64[ns]\n",
      " 12  days_listed   51525 non-null  int64         \n",
      "dtypes: datetime64[ns](1), float64(4), int64(2), object(6)\n",
      "memory usage: 5.1+ MB\n"
     ]
    },
    {
     "data": {
      "text/plain": [
       "None"
      ]
     },
     "metadata": {},
     "output_type": "display_data"
    },
    {
     "data": {
      "text/html": [
       "<div>\n",
       "<style scoped>\n",
       "    .dataframe tbody tr th:only-of-type {\n",
       "        vertical-align: middle;\n",
       "    }\n",
       "\n",
       "    .dataframe tbody tr th {\n",
       "        vertical-align: top;\n",
       "    }\n",
       "\n",
       "    .dataframe thead th {\n",
       "        text-align: right;\n",
       "    }\n",
       "</style>\n",
       "<table border=\"1\" class=\"dataframe\">\n",
       "  <thead>\n",
       "    <tr style=\"text-align: right;\">\n",
       "      <th></th>\n",
       "      <th>price</th>\n",
       "      <th>model_year</th>\n",
       "      <th>model</th>\n",
       "      <th>condition</th>\n",
       "      <th>cylinders</th>\n",
       "      <th>fuel</th>\n",
       "      <th>odometer</th>\n",
       "      <th>transmission</th>\n",
       "      <th>type</th>\n",
       "      <th>paint_color</th>\n",
       "      <th>is_4wd</th>\n",
       "      <th>date_posted</th>\n",
       "      <th>days_listed</th>\n",
       "    </tr>\n",
       "  </thead>\n",
       "  <tbody>\n",
       "  </tbody>\n",
       "</table>\n",
       "</div>"
      ],
      "text/plain": [
       "Empty DataFrame\n",
       "Columns: [price, model_year, model, condition, cylinders, fuel, odometer, transmission, type, paint_color, is_4wd, date_posted, days_listed]\n",
       "Index: []"
      ]
     },
     "metadata": {},
     "output_type": "display_data"
    },
    {
     "name": "stdout",
     "output_type": "stream",
     "text": [
      "<class 'pandas.core.frame.DataFrame'>\n",
      "RangeIndex: 51525 entries, 0 to 51524\n",
      "Data columns (total 13 columns):\n",
      " #   Column        Non-Null Count  Dtype         \n",
      "---  ------        --------------  -----         \n",
      " 0   price         51525 non-null  int64         \n",
      " 1   model_year    51525 non-null  float64       \n",
      " 2   model         51525 non-null  object        \n",
      " 3   condition     51525 non-null  object        \n",
      " 4   cylinders     51525 non-null  float64       \n",
      " 5   fuel          51525 non-null  object        \n",
      " 6   odometer      51484 non-null  float64       \n",
      " 7   transmission  51525 non-null  object        \n",
      " 8   type          51525 non-null  object        \n",
      " 9   paint_color   51525 non-null  object        \n",
      " 10  is_4wd        51525 non-null  float64       \n",
      " 11  date_posted   51525 non-null  datetime64[ns]\n",
      " 12  days_listed   51525 non-null  int64         \n",
      "dtypes: datetime64[ns](1), float64(4), int64(2), object(6)\n",
      "memory usage: 5.1+ MB\n"
     ]
    },
    {
     "data": {
      "text/plain": [
       "None"
      ]
     },
     "metadata": {},
     "output_type": "display_data"
    }
   ],
   "source": [
    "###  USED Vehicle Data analysis and exploration\n",
    "\n",
    "\n",
    "## Read Sample data for Used Vehicles information for sales\n",
    "df = pd.read_csv(\"..//vehicles_us.csv\",parse_dates=['date_posted'], date_format='%Y-%m-%d')\n",
    "#df['model_year']=df['model_year'].astype('Int64')\n",
    "#df['odometer']=df['odometer'].astype('Int64')\n",
    "#df['odometer']=df['odometer'].fillna(0)\n",
    "\n",
    "\n",
    "## Print the info and column information\n",
    "#display(df.columns)\n",
    "display(df.info())\n",
    "#display(df.head())\n",
    "\n",
    "\n",
    "\n",
    "## Check for duplicates \n",
    "display(df[df.duplicated()])  #  Results  in None (No duplicates foound)\n",
    "\n",
    "\n",
    "## Handling Missing Data\n",
    "\n",
    "# Fill NAN values for is_4wd with 0\n",
    "df['is_4wd']=df['is_4wd'].fillna(0)\n",
    "\n",
    "# Fill NAN values for paint_color with 0\n",
    "df['paint_color']=df['paint_color'].fillna('Unknown')\n",
    "\n",
    "# Fill NAN values for model_year with  median of model_year for that model\n",
    "df['model_year'] = df['model_year'].fillna(df.groupby('model')['model_year'].transform('median'))\n",
    "\n",
    "# Fill NAN values for odometer with  median of odometer when grouped by condition\n",
    "df['odometer'] = df['odometer'].fillna(df.groupby(['condition'])['odometer'].transform('median'))\n",
    "\n",
    "\n",
    "# Fill NAN values for cylinders with  median of cylinders when grouped  type\n",
    "df['cylinders'] = df['cylinders'].fillna(df.groupby(['type'])['cylinders'].transform('median'))\n",
    "\n",
    "\n",
    "## This display of datframe info shows that there are no NAN values in any column\n",
    "display(df.info())\n",
    "\n"
   ]
  },
  {
   "cell_type": "code",
   "execution_count": 15,
   "metadata": {},
   "outputs": [
    {
     "name": "stderr",
     "output_type": "stream",
     "text": [
      "2025-02-28 02:06:20.409 Thread 'MainThread': missing ScriptRunContext! This warning can be ignored when running in bare mode.\n",
      "2025-02-28 02:06:20.409 Thread 'MainThread': missing ScriptRunContext! This warning can be ignored when running in bare mode.\n",
      "2025-02-28 02:06:20.409 Thread 'MainThread': missing ScriptRunContext! This warning can be ignored when running in bare mode.\n",
      "2025-02-28 02:06:20.409 Thread 'MainThread': missing ScriptRunContext! This warning can be ignored when running in bare mode.\n",
      "2025-02-28 02:06:20.488 Thread 'MainThread': missing ScriptRunContext! This warning can be ignored when running in bare mode.\n",
      "2025-02-28 02:06:20.491 Thread 'MainThread': missing ScriptRunContext! This warning can be ignored when running in bare mode.\n",
      "2025-02-28 02:06:20.496 Thread 'MainThread': missing ScriptRunContext! This warning can be ignored when running in bare mode.\n",
      "2025-02-28 02:06:20.498 Thread 'MainThread': missing ScriptRunContext! This warning can be ignored when running in bare mode.\n"
     ]
    },
    {
     "data": {
      "text/plain": [
       "DeltaGenerator()"
      ]
     },
     "execution_count": 15,
     "metadata": {},
     "output_type": "execute_result"
    }
   ],
   "source": [
    "\n",
    "# Display the scatter plot using st.write with a matplotlib figure\n",
    "\n",
    "st.write(\"Scatter plot of Price vs Odometer:\")\n",
    "\n",
    "fig = plt.scatter(df, x='price', y='odometer',\n",
    "                 title='Vehicle Price vs Odometer Scatter Plot')\n",
    "# Display the plot in Streamlit\n",
    "    \n",
    "st.plotly_chart(fig)\n"
   ]
  }
 ],
 "metadata": {
  "kernelspec": {
   "display_name": "Python 3",
   "language": "python",
   "name": "python3"
  },
  "language_info": {
   "codemirror_mode": {
    "name": "ipython",
    "version": 3
   },
   "file_extension": ".py",
   "mimetype": "text/x-python",
   "name": "python",
   "nbconvert_exporter": "python",
   "pygments_lexer": "ipython3",
   "version": "3.9.10"
  }
 },
 "nbformat": 4,
 "nbformat_minor": 2
}
